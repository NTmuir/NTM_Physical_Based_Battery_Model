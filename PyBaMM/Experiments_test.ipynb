{
 "cells": [
  {
   "cell_type": "code",
   "execution_count": 1,
   "id": "9813e8d7",
   "metadata": {},
   "outputs": [],
   "source": [
    "import pybamm # Importing PyBaMM"
   ]
  },
  {
   "cell_type": "code",
   "execution_count": 21,
   "id": "f2acb9a0",
   "metadata": {},
   "outputs": [],
   "source": [
    "experiment = pybamm.Experiment(\n",
    "    [\n",
    "        (\"Discharge at C/10 for 10 hours or until 3.3 V\"),(\"Rest for 1 hour\"),(\"Charge at 1 A until 4.1 V\"),(\"Hold at 4.1 V until 50mA\"),(\"Rest for 1 hour\")]*3)"
   ]
  },
  {
   "cell_type": "code",
   "execution_count": 22,
   "id": "bc04e063",
   "metadata": {},
   "outputs": [],
   "source": [
    "model = pybamm.lithium_ion.DFN()"
   ]
  },
  {
   "cell_type": "code",
   "execution_count": 23,
   "id": "72a11ada",
   "metadata": {},
   "outputs": [],
   "source": [
    "sim = pybamm.Simulation(model,experiment=experiment)"
   ]
  },
  {
   "cell_type": "code",
   "execution_count": 24,
   "id": "a2589f1a",
   "metadata": {},
   "outputs": [
    {
     "data": {
      "application/vnd.jupyter.widget-view+json": {
       "model_id": "cd388656d18d4820aeb7eb0fbd1e4569",
       "version_major": 2,
       "version_minor": 0
      },
      "text/plain": [
       "interactive(children=(FloatSlider(value=0.0, description='t', max=38.90939226741796, step=0.3890939226741796),…"
      ]
     },
     "metadata": {},
     "output_type": "display_data"
    }
   ],
   "source": [
    "sim.solve()\n",
    "sim.plot()"
   ]
  },
  {
   "cell_type": "code",
   "execution_count": null,
   "id": "fe376f20",
   "metadata": {},
   "outputs": [],
   "source": []
  }
 ],
 "metadata": {
  "kernelspec": {
   "display_name": "Python 3 (ipykernel)",
   "language": "python",
   "name": "python3"
  },
  "language_info": {
   "codemirror_mode": {
    "name": "ipython",
    "version": 3
   },
   "file_extension": ".py",
   "mimetype": "text/x-python",
   "name": "python",
   "nbconvert_exporter": "python",
   "pygments_lexer": "ipython3",
   "version": "3.10.2"
  }
 },
 "nbformat": 4,
 "nbformat_minor": 5
}
